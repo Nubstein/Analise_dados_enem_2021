{
 "cells": [
  {
   "cell_type": "markdown",
   "id": "5bb2b86f",
   "metadata": {},
   "source": [
    "<div Análise exploratória de microdados do ENEM >"
   ]
  },
  {
   "cell_type": "markdown",
   "id": "5e4829f8",
   "metadata": {},
   "source": [
    "\n",
    "<H1 style=\"color:RED\">Perfil dos candidatos — Enem 2021-Parte 1</H1>"
   ]
  },
  {
   "cell_type": "code",
   "execution_count": 1,
   "id": "4cb4be98",
   "metadata": {},
   "outputs": [],
   "source": [
    "import pandas as pd\n",
    "import numpy as np\n",
    "import matplotlib.pyplot as plt "
   ]
  },
  {
   "cell_type": "code",
   "execution_count": 2,
   "id": "426193f2",
   "metadata": {},
   "outputs": [],
   "source": [
    "microdadosEnem = pd.read_csv(\"microdados_enem_2021/DADOS/MICRODADOS_ENEM_2021.csv\", sep=\";\", encoding='ISO_8859_1')"
   ]
  },
  {
   "cell_type": "code",
   "execution_count": 3,
   "id": "1f2b9c2e",
   "metadata": {},
   "outputs": [
    {
     "data": {
      "text/plain": [
       "array(['NU_INSCRICAO', 'NU_ANO', 'TP_FAIXA_ETARIA', 'TP_SEXO',\n",
       "       'TP_ESTADO_CIVIL', 'TP_COR_RACA', 'TP_NACIONALIDADE',\n",
       "       'TP_ST_CONCLUSAO', 'TP_ANO_CONCLUIU', 'TP_ESCOLA', 'TP_ENSINO',\n",
       "       'IN_TREINEIRO', 'CO_MUNICIPIO_ESC', 'NO_MUNICIPIO_ESC',\n",
       "       'CO_UF_ESC', 'SG_UF_ESC', 'TP_DEPENDENCIA_ADM_ESC',\n",
       "       'TP_LOCALIZACAO_ESC', 'TP_SIT_FUNC_ESC', 'CO_MUNICIPIO_PROVA',\n",
       "       'NO_MUNICIPIO_PROVA', 'CO_UF_PROVA', 'SG_UF_PROVA',\n",
       "       'TP_PRESENCA_CN', 'TP_PRESENCA_CH', 'TP_PRESENCA_LC',\n",
       "       'TP_PRESENCA_MT', 'CO_PROVA_CN', 'CO_PROVA_CH', 'CO_PROVA_LC',\n",
       "       'CO_PROVA_MT', 'NU_NOTA_CN', 'NU_NOTA_CH', 'NU_NOTA_LC',\n",
       "       'NU_NOTA_MT', 'TX_RESPOSTAS_CN', 'TX_RESPOSTAS_CH',\n",
       "       'TX_RESPOSTAS_LC', 'TX_RESPOSTAS_MT', 'TP_LINGUA',\n",
       "       'TX_GABARITO_CN', 'TX_GABARITO_CH', 'TX_GABARITO_LC',\n",
       "       'TX_GABARITO_MT', 'TP_STATUS_REDACAO', 'NU_NOTA_COMP1',\n",
       "       'NU_NOTA_COMP2', 'NU_NOTA_COMP3', 'NU_NOTA_COMP4', 'NU_NOTA_COMP5',\n",
       "       'NU_NOTA_REDACAO', 'Q001', 'Q002', 'Q003', 'Q004', 'Q005', 'Q006',\n",
       "       'Q007', 'Q008', 'Q009', 'Q010', 'Q011', 'Q012', 'Q013', 'Q014',\n",
       "       'Q015', 'Q016', 'Q017', 'Q018', 'Q019', 'Q020', 'Q021', 'Q022',\n",
       "       'Q023', 'Q024', 'Q025'], dtype=object)"
      ]
     },
     "execution_count": 3,
     "metadata": {},
     "output_type": "execute_result"
    }
   ],
   "source": [
    "microdadosEnem.columns.values"
   ]
  },
  {
   "cell_type": "code",
   "execution_count": 4,
   "id": "1d3ad53d",
   "metadata": {},
   "outputs": [],
   "source": [
    "#Utilizar apenas as 100 primeiras linhas do dataset\n",
    "df_selecionados_100=microdadosEnem[0:100]"
   ]
  },
  {
   "cell_type": "code",
   "execution_count": 5,
   "id": "eb16460f",
   "metadata": {},
   "outputs": [
    {
     "name": "stdout",
     "output_type": "stream",
     "text": [
      "NU_INSCRICAO       0\n",
      "NU_ANO             0\n",
      "TP_FAIXA_ETARIA    0\n",
      "TP_SEXO            0\n",
      "TP_ESTADO_CIVIL    0\n",
      "                  ..\n",
      "Q021               2\n",
      "Q022               2\n",
      "Q023               2\n",
      "Q024               2\n",
      "Q025               2\n",
      "Length: 76, dtype: int64\n"
     ]
    }
   ],
   "source": [
    "print(microdadosEnem.isna().sum()) #VER VALORES NAM"
   ]
  },
  {
   "cell_type": "code",
   "execution_count": 6,
   "id": "73b0a393",
   "metadata": {},
   "outputs": [],
   "source": [
    "#COLUNAS SELECIONADAS\n",
    "selecionadas= ['NU_INSCRICAO','TP_FAIXA_ETARIA', 'TP_SEXO',\n",
    "       'TP_ESTADO_CIVIL', 'TP_COR_RACA', 'TP_NACIONALIDADE',\n",
    "       'TP_ST_CONCLUSAO', 'TP_ANO_CONCLUIU', 'TP_ESCOLA','IN_TREINEIRO','NO_MUNICIPIO_PROVA', 'SG_UF_PROVA',\n",
    "       'TP_PRESENCA_CN', 'TP_PRESENCA_CH', 'TP_PRESENCA_LC',\n",
    "       'TP_PRESENCA_MT', 'NU_NOTA_CN', 'NU_NOTA_CH', 'NU_NOTA_LC',\n",
    "       'NU_NOTA_MT', 'TP_LINGUA','TP_STATUS_REDACAO', 'NU_NOTA_COMP1',\n",
    "       'NU_NOTA_COMP2', 'NU_NOTA_COMP3', 'NU_NOTA_COMP4', 'NU_NOTA_COMP5',\n",
    "       'NU_NOTA_REDACAO', 'Q001', 'Q002', 'Q003', 'Q004', 'Q005', 'Q006',\n",
    "       'Q007', 'Q008', 'Q009', 'Q010', 'Q011', 'Q012', 'Q013', 'Q014',\n",
    "       'Q015', 'Q016', 'Q017', 'Q018', 'Q019', 'Q020', 'Q021', 'Q022',\n",
    "       'Q023', 'Q024', 'Q025']"
   ]
  },
  {
   "cell_type": "code",
   "execution_count": 7,
   "id": "f1e951c1",
   "metadata": {},
   "outputs": [],
   "source": [
    "df= microdadosEnem.filter(items=selecionadas)"
   ]
  },
  {
   "cell_type": "code",
   "execution_count": 8,
   "id": "5d3a43c0",
   "metadata": {},
   "outputs": [],
   "source": [
    "df.rename(columns={'Q001': 'EDUC_PAI', 'Q002': 'EDUC_AME', 'Q003':'OCUP_PAI', 'Q004':'OCUP_MAE',\n",
    "                   'Q005':'N_PESSOAS_CASA', 'Q006':'RENDA_FAM', 'Q007':'DOMESTICA', 'Q008':'BANHEIRO',\n",
    "                  'Q009': 'N_QUARTOS', 'Q010': 'CARRO', 'Q011': 'MOTO', 'Q012':'GELADEIRA', 'Q013':'FREEZER',\n",
    "                  'Q014':'MAQUINA_LAVAR', 'Q015':'MAQUINA_SECAR', 'Q016': 'MICROONDAS', 'Q017': 'MAQUINA_LOUCA',\n",
    "                  'Q018':'ASPIRADOR', 'Q019': 'TELEVISAO', 'Q020':'DVD', 'Q021':'TV_ASSINATURA',\n",
    "                  'Q022':'CELULAR', 'Q023': 'TELEFONE_FIXO', 'Q024':'COMPUTADOR', 'Q025': 'INTERNET'}, inplace=True)"
   ]
  },
  {
   "cell_type": "code",
   "execution_count": 9,
   "id": "4ef65960",
   "metadata": {},
   "outputs": [
    {
     "data": {
      "text/html": [
       "<div>\n",
       "<style scoped>\n",
       "    .dataframe tbody tr th:only-of-type {\n",
       "        vertical-align: middle;\n",
       "    }\n",
       "\n",
       "    .dataframe tbody tr th {\n",
       "        vertical-align: top;\n",
       "    }\n",
       "\n",
       "    .dataframe thead th {\n",
       "        text-align: right;\n",
       "    }\n",
       "</style>\n",
       "<table border=\"1\" class=\"dataframe\">\n",
       "  <thead>\n",
       "    <tr style=\"text-align: right;\">\n",
       "      <th></th>\n",
       "      <th>NU_INSCRICAO</th>\n",
       "      <th>TP_FAIXA_ETARIA</th>\n",
       "      <th>TP_SEXO</th>\n",
       "      <th>TP_ESTADO_CIVIL</th>\n",
       "      <th>TP_COR_RACA</th>\n",
       "      <th>TP_NACIONALIDADE</th>\n",
       "      <th>TP_ST_CONCLUSAO</th>\n",
       "      <th>TP_ANO_CONCLUIU</th>\n",
       "      <th>TP_ESCOLA</th>\n",
       "      <th>IN_TREINEIRO</th>\n",
       "      <th>...</th>\n",
       "      <th>MICROONDAS</th>\n",
       "      <th>MAQUINA_LOUCA</th>\n",
       "      <th>ASPIRADOR</th>\n",
       "      <th>TELEVISAO</th>\n",
       "      <th>DVD</th>\n",
       "      <th>TV_ASSINATURA</th>\n",
       "      <th>CELULAR</th>\n",
       "      <th>TELEFONE_FIXO</th>\n",
       "      <th>COMPUTADOR</th>\n",
       "      <th>INTERNET</th>\n",
       "    </tr>\n",
       "  </thead>\n",
       "  <tbody>\n",
       "    <tr>\n",
       "      <th>0</th>\n",
       "      <td>210053865474</td>\n",
       "      <td>5</td>\n",
       "      <td>F</td>\n",
       "      <td>1</td>\n",
       "      <td>1</td>\n",
       "      <td>1</td>\n",
       "      <td>1</td>\n",
       "      <td>3</td>\n",
       "      <td>1</td>\n",
       "      <td>0</td>\n",
       "      <td>...</td>\n",
       "      <td>A</td>\n",
       "      <td>A</td>\n",
       "      <td>A</td>\n",
       "      <td>B</td>\n",
       "      <td>A</td>\n",
       "      <td>A</td>\n",
       "      <td>B</td>\n",
       "      <td>A</td>\n",
       "      <td>B</td>\n",
       "      <td>B</td>\n",
       "    </tr>\n",
       "    <tr>\n",
       "      <th>1</th>\n",
       "      <td>210052384164</td>\n",
       "      <td>12</td>\n",
       "      <td>M</td>\n",
       "      <td>1</td>\n",
       "      <td>1</td>\n",
       "      <td>1</td>\n",
       "      <td>1</td>\n",
       "      <td>11</td>\n",
       "      <td>1</td>\n",
       "      <td>0</td>\n",
       "      <td>...</td>\n",
       "      <td>A</td>\n",
       "      <td>A</td>\n",
       "      <td>A</td>\n",
       "      <td>B</td>\n",
       "      <td>A</td>\n",
       "      <td>A</td>\n",
       "      <td>C</td>\n",
       "      <td>A</td>\n",
       "      <td>A</td>\n",
       "      <td>A</td>\n",
       "    </tr>\n",
       "    <tr>\n",
       "      <th>2</th>\n",
       "      <td>210052589243</td>\n",
       "      <td>13</td>\n",
       "      <td>F</td>\n",
       "      <td>3</td>\n",
       "      <td>1</td>\n",
       "      <td>1</td>\n",
       "      <td>1</td>\n",
       "      <td>15</td>\n",
       "      <td>1</td>\n",
       "      <td>0</td>\n",
       "      <td>...</td>\n",
       "      <td>B</td>\n",
       "      <td>A</td>\n",
       "      <td>A</td>\n",
       "      <td>B</td>\n",
       "      <td>A</td>\n",
       "      <td>A</td>\n",
       "      <td>C</td>\n",
       "      <td>B</td>\n",
       "      <td>B</td>\n",
       "      <td>B</td>\n",
       "    </tr>\n",
       "    <tr>\n",
       "      <th>3</th>\n",
       "      <td>210052128335</td>\n",
       "      <td>3</td>\n",
       "      <td>M</td>\n",
       "      <td>1</td>\n",
       "      <td>3</td>\n",
       "      <td>1</td>\n",
       "      <td>2</td>\n",
       "      <td>0</td>\n",
       "      <td>2</td>\n",
       "      <td>0</td>\n",
       "      <td>...</td>\n",
       "      <td>A</td>\n",
       "      <td>A</td>\n",
       "      <td>A</td>\n",
       "      <td>B</td>\n",
       "      <td>A</td>\n",
       "      <td>A</td>\n",
       "      <td>B</td>\n",
       "      <td>A</td>\n",
       "      <td>B</td>\n",
       "      <td>B</td>\n",
       "    </tr>\n",
       "    <tr>\n",
       "      <th>4</th>\n",
       "      <td>210051353021</td>\n",
       "      <td>2</td>\n",
       "      <td>F</td>\n",
       "      <td>1</td>\n",
       "      <td>3</td>\n",
       "      <td>1</td>\n",
       "      <td>2</td>\n",
       "      <td>0</td>\n",
       "      <td>2</td>\n",
       "      <td>0</td>\n",
       "      <td>...</td>\n",
       "      <td>B</td>\n",
       "      <td>A</td>\n",
       "      <td>A</td>\n",
       "      <td>B</td>\n",
       "      <td>A</td>\n",
       "      <td>B</td>\n",
       "      <td>E</td>\n",
       "      <td>A</td>\n",
       "      <td>B</td>\n",
       "      <td>B</td>\n",
       "    </tr>\n",
       "    <tr>\n",
       "      <th>...</th>\n",
       "      <td>...</td>\n",
       "      <td>...</td>\n",
       "      <td>...</td>\n",
       "      <td>...</td>\n",
       "      <td>...</td>\n",
       "      <td>...</td>\n",
       "      <td>...</td>\n",
       "      <td>...</td>\n",
       "      <td>...</td>\n",
       "      <td>...</td>\n",
       "      <td>...</td>\n",
       "      <td>...</td>\n",
       "      <td>...</td>\n",
       "      <td>...</td>\n",
       "      <td>...</td>\n",
       "      <td>...</td>\n",
       "      <td>...</td>\n",
       "      <td>...</td>\n",
       "      <td>...</td>\n",
       "      <td>...</td>\n",
       "      <td>...</td>\n",
       "    </tr>\n",
       "    <tr>\n",
       "      <th>3389827</th>\n",
       "      <td>210053249138</td>\n",
       "      <td>7</td>\n",
       "      <td>F</td>\n",
       "      <td>1</td>\n",
       "      <td>3</td>\n",
       "      <td>1</td>\n",
       "      <td>1</td>\n",
       "      <td>0</td>\n",
       "      <td>1</td>\n",
       "      <td>0</td>\n",
       "      <td>...</td>\n",
       "      <td>A</td>\n",
       "      <td>A</td>\n",
       "      <td>A</td>\n",
       "      <td>B</td>\n",
       "      <td>A</td>\n",
       "      <td>A</td>\n",
       "      <td>B</td>\n",
       "      <td>A</td>\n",
       "      <td>A</td>\n",
       "      <td>B</td>\n",
       "    </tr>\n",
       "    <tr>\n",
       "      <th>3389828</th>\n",
       "      <td>210053776013</td>\n",
       "      <td>7</td>\n",
       "      <td>F</td>\n",
       "      <td>1</td>\n",
       "      <td>1</td>\n",
       "      <td>1</td>\n",
       "      <td>1</td>\n",
       "      <td>5</td>\n",
       "      <td>1</td>\n",
       "      <td>0</td>\n",
       "      <td>...</td>\n",
       "      <td>B</td>\n",
       "      <td>A</td>\n",
       "      <td>B</td>\n",
       "      <td>C</td>\n",
       "      <td>A</td>\n",
       "      <td>A</td>\n",
       "      <td>E</td>\n",
       "      <td>B</td>\n",
       "      <td>B</td>\n",
       "      <td>B</td>\n",
       "    </tr>\n",
       "    <tr>\n",
       "      <th>3389829</th>\n",
       "      <td>210052441508</td>\n",
       "      <td>13</td>\n",
       "      <td>F</td>\n",
       "      <td>1</td>\n",
       "      <td>3</td>\n",
       "      <td>1</td>\n",
       "      <td>1</td>\n",
       "      <td>15</td>\n",
       "      <td>1</td>\n",
       "      <td>0</td>\n",
       "      <td>...</td>\n",
       "      <td>B</td>\n",
       "      <td>A</td>\n",
       "      <td>A</td>\n",
       "      <td>A</td>\n",
       "      <td>A</td>\n",
       "      <td>A</td>\n",
       "      <td>B</td>\n",
       "      <td>A</td>\n",
       "      <td>B</td>\n",
       "      <td>B</td>\n",
       "    </tr>\n",
       "    <tr>\n",
       "      <th>3389830</th>\n",
       "      <td>210051139675</td>\n",
       "      <td>7</td>\n",
       "      <td>F</td>\n",
       "      <td>1</td>\n",
       "      <td>1</td>\n",
       "      <td>1</td>\n",
       "      <td>1</td>\n",
       "      <td>4</td>\n",
       "      <td>1</td>\n",
       "      <td>0</td>\n",
       "      <td>...</td>\n",
       "      <td>B</td>\n",
       "      <td>A</td>\n",
       "      <td>B</td>\n",
       "      <td>B</td>\n",
       "      <td>A</td>\n",
       "      <td>B</td>\n",
       "      <td>E</td>\n",
       "      <td>A</td>\n",
       "      <td>C</td>\n",
       "      <td>B</td>\n",
       "    </tr>\n",
       "    <tr>\n",
       "      <th>3389831</th>\n",
       "      <td>210052410399</td>\n",
       "      <td>12</td>\n",
       "      <td>F</td>\n",
       "      <td>2</td>\n",
       "      <td>3</td>\n",
       "      <td>1</td>\n",
       "      <td>1</td>\n",
       "      <td>15</td>\n",
       "      <td>1</td>\n",
       "      <td>0</td>\n",
       "      <td>...</td>\n",
       "      <td>NaN</td>\n",
       "      <td>NaN</td>\n",
       "      <td>NaN</td>\n",
       "      <td>NaN</td>\n",
       "      <td>NaN</td>\n",
       "      <td>NaN</td>\n",
       "      <td>NaN</td>\n",
       "      <td>NaN</td>\n",
       "      <td>NaN</td>\n",
       "      <td>NaN</td>\n",
       "    </tr>\n",
       "  </tbody>\n",
       "</table>\n",
       "<p>3389832 rows × 53 columns</p>\n",
       "</div>"
      ],
      "text/plain": [
       "         NU_INSCRICAO  TP_FAIXA_ETARIA TP_SEXO  TP_ESTADO_CIVIL  TP_COR_RACA  \\\n",
       "0        210053865474                5       F                1            1   \n",
       "1        210052384164               12       M                1            1   \n",
       "2        210052589243               13       F                3            1   \n",
       "3        210052128335                3       M                1            3   \n",
       "4        210051353021                2       F                1            3   \n",
       "...               ...              ...     ...              ...          ...   \n",
       "3389827  210053249138                7       F                1            3   \n",
       "3389828  210053776013                7       F                1            1   \n",
       "3389829  210052441508               13       F                1            3   \n",
       "3389830  210051139675                7       F                1            1   \n",
       "3389831  210052410399               12       F                2            3   \n",
       "\n",
       "         TP_NACIONALIDADE  TP_ST_CONCLUSAO  TP_ANO_CONCLUIU  TP_ESCOLA  \\\n",
       "0                       1                1                3          1   \n",
       "1                       1                1               11          1   \n",
       "2                       1                1               15          1   \n",
       "3                       1                2                0          2   \n",
       "4                       1                2                0          2   \n",
       "...                   ...              ...              ...        ...   \n",
       "3389827                 1                1                0          1   \n",
       "3389828                 1                1                5          1   \n",
       "3389829                 1                1               15          1   \n",
       "3389830                 1                1                4          1   \n",
       "3389831                 1                1               15          1   \n",
       "\n",
       "         IN_TREINEIRO  ... MICROONDAS MAQUINA_LOUCA  ASPIRADOR  TELEVISAO  \\\n",
       "0                   0  ...          A             A          A          B   \n",
       "1                   0  ...          A             A          A          B   \n",
       "2                   0  ...          B             A          A          B   \n",
       "3                   0  ...          A             A          A          B   \n",
       "4                   0  ...          B             A          A          B   \n",
       "...               ...  ...        ...           ...        ...        ...   \n",
       "3389827             0  ...          A             A          A          B   \n",
       "3389828             0  ...          B             A          B          C   \n",
       "3389829             0  ...          B             A          A          A   \n",
       "3389830             0  ...          B             A          B          B   \n",
       "3389831             0  ...        NaN           NaN        NaN        NaN   \n",
       "\n",
       "         DVD  TV_ASSINATURA  CELULAR  TELEFONE_FIXO  COMPUTADOR  INTERNET  \n",
       "0          A              A        B              A           B         B  \n",
       "1          A              A        C              A           A         A  \n",
       "2          A              A        C              B           B         B  \n",
       "3          A              A        B              A           B         B  \n",
       "4          A              B        E              A           B         B  \n",
       "...      ...            ...      ...            ...         ...       ...  \n",
       "3389827    A              A        B              A           A         B  \n",
       "3389828    A              A        E              B           B         B  \n",
       "3389829    A              A        B              A           B         B  \n",
       "3389830    A              B        E              A           C         B  \n",
       "3389831  NaN            NaN      NaN            NaN         NaN       NaN  \n",
       "\n",
       "[3389832 rows x 53 columns]"
      ]
     },
     "execution_count": 9,
     "metadata": {},
     "output_type": "execute_result"
    }
   ],
   "source": [
    "df"
   ]
  },
  {
   "cell_type": "markdown",
   "id": "19fca2d5",
   "metadata": {},
   "source": [
    "### MUNÍCIPIOS E ESTADOS DAS PROVAS"
   ]
  },
  {
   "cell_type": "code",
   "execution_count": 10,
   "id": "cd0d3baa",
   "metadata": {},
   "outputs": [
    {
     "data": {
      "text/plain": [
       "0                      Nova Lima\n",
       "1                         Maceió\n",
       "2          Ferraz de Vasconcelos\n",
       "3                          Crato\n",
       "4                        Acarape\n",
       "                   ...          \n",
       "3389827                  Goiânia\n",
       "3389828                 Londrina\n",
       "3389829           Rio de Janeiro\n",
       "3389830             Pouso Alegre\n",
       "3389831                  Baraúna\n",
       "Name: NO_MUNICIPIO_PROVA, Length: 3389832, dtype: object"
      ]
     },
     "execution_count": 10,
     "metadata": {},
     "output_type": "execute_result"
    }
   ],
   "source": [
    "municipio_provas=df['NO_MUNICIPIO_PROVA']\n",
    "municipio_provas"
   ]
  },
  {
   "cell_type": "code",
   "execution_count": 11,
   "id": "448a6afb",
   "metadata": {},
   "outputs": [
    {
     "data": {
      "text/plain": [
       "São Paulo              141840\n",
       "Rio de Janeiro         102152\n",
       "Fortaleza               72457\n",
       "Brasília                67501\n",
       "Salvador                58502\n",
       "                        ...  \n",
       "Barra do Turvo             53\n",
       "Fernando de Noronha        47\n",
       "Jordão                     44\n",
       "Bonfim                     43\n",
       "Santa Rosa do Purus        21\n",
       "Name: NO_MUNICIPIO_PROVA, Length: 1712, dtype: int64"
      ]
     },
     "execution_count": 11,
     "metadata": {},
     "output_type": "execute_result"
    }
   ],
   "source": [
    "municipio_provas.value_counts() #PARA CONTAR OS VALORES DE CADA MUNICÍPIO\n",
    "                                #PARA MOSTRAR EM ORDEM ALFABÉTICA DE MUNICÍPIOS, ADICIONAR .sort_index ()\n",
    "    # O VALUE_COUNTS() JÁ RETORNA POR ORDEM DESCRESCENTE"
   ]
  },
  {
   "cell_type": "code",
   "execution_count": 12,
   "id": "686ccabb",
   "metadata": {},
   "outputs": [
    {
     "data": {
      "text/plain": [
       "SP    509954\n",
       "MG    327829\n",
       "BA    266194\n",
       "RJ    238347\n",
       "CE    220517\n",
       "PE    193616\n",
       "PA    185978\n",
       "RS    150484\n",
       "PR    144282\n",
       "GO    136915\n",
       "MA    127905\n",
       "PB    102002\n",
       "AM     89778\n",
       "RN     80820\n",
       "SC     80765\n",
       "PI     79969\n",
       "DF     67501\n",
       "ES     64181\n",
       "AL     56584\n",
       "MT     56085\n",
       "SE     53796\n",
       "MS     42490\n",
       "RO     32801\n",
       "TO     30873\n",
       "AP     21774\n",
       "AC     20336\n",
       "RR      8056\n",
       "Name: SG_UF_PROVA, dtype: int64"
      ]
     },
     "execution_count": 12,
     "metadata": {},
     "output_type": "execute_result"
    }
   ],
   "source": [
    "uf_provas=df['SG_UF_PROVA']\n",
    "uf_provas.value_counts()"
   ]
  },
  {
   "cell_type": "code",
   "execution_count": 13,
   "id": "7fbab13d",
   "metadata": {},
   "outputs": [
    {
     "data": {
      "image/png": "[encoded data removed]",
      "text/plain": [
       "<Figure size 720x504 with 1 Axes>"
      ]
     },
     "metadata": {
      "needs_background": "light"
     },
     "output_type": "display_data"
    }
   ],
   "source": [
    "plt.figure(figsize=(10, 7)) \n",
    "plt.hist(uf_provas,bins=20,edgecolor='white')\n",
    "plt.xticks(rotation=90) \n",
    "plt.title('UF Provas')\n",
    "plt.show() "
   ]
  },
  {
   "cell_type": "markdown",
   "id": "0bccc42a",
   "metadata": {},
   "source": [
    "### DADOS CANDIDATOS"
   ]
  },
  {
   "cell_type": "code",
   "execution_count": 14,
   "id": "672a49f1",
   "metadata": {},
   "outputs": [
    {
     "data": {
      "text/plain": [
       "NU_INSCRICAO            int64\n",
       "TP_FAIXA_ETARIA         int64\n",
       "TP_SEXO                object\n",
       "TP_ESTADO_CIVIL         int64\n",
       "TP_COR_RACA             int64\n",
       "TP_NACIONALIDADE        int64\n",
       "TP_ST_CONCLUSAO         int64\n",
       "TP_ANO_CONCLUIU         int64\n",
       "TP_ESCOLA               int64\n",
       "IN_TREINEIRO            int64\n",
       "NO_MUNICIPIO_PROVA     object\n",
       "SG_UF_PROVA            object\n",
       "TP_PRESENCA_CN          int64\n",
       "TP_PRESENCA_CH          int64\n",
       "TP_PRESENCA_LC          int64\n",
       "TP_PRESENCA_MT          int64\n",
       "NU_NOTA_CN            float64\n",
       "NU_NOTA_CH            float64\n",
       "NU_NOTA_LC            float64\n",
       "NU_NOTA_MT            float64\n",
       "TP_LINGUA               int64\n",
       "TP_STATUS_REDACAO     float64\n",
       "NU_NOTA_COMP1         float64\n",
       "NU_NOTA_COMP2         float64\n",
       "NU_NOTA_COMP3         float64\n",
       "NU_NOTA_COMP4         float64\n",
       "NU_NOTA_COMP5         float64\n",
       "NU_NOTA_REDACAO       float64\n",
       "EDUC_PAI               object\n",
       "EDUC_AME               object\n",
       "OCUP_PAI               object\n",
       "OCUP_MAE               object\n",
       "N_PESSOAS_CASA        float64\n",
       "RENDA_FAM              object\n",
       "DOMESTICA              object\n",
       "BANHEIRO               object\n",
       "N_QUARTOS              object\n",
       "CARRO                  object\n",
       "MOTO                   object\n",
       "GELADEIRA              object\n",
       "FREEZER                object\n",
       "MAQUINA_LAVAR          object\n",
       "MAQUINA_SECAR          object\n",
       "MICROONDAS             object\n",
       "MAQUINA_LOUCA          object\n",
       "ASPIRADOR              object\n",
       "TELEVISAO              object\n",
       "DVD                    object\n",
       "TV_ASSINATURA          object\n",
       "CELULAR                object\n",
       "TELEFONE_FIXO          object\n",
       "COMPUTADOR             object\n",
       "INTERNET               object\n",
       "dtype: object"
      ]
     },
     "execution_count": 14,
     "metadata": {},
     "output_type": "execute_result"
    }
   ],
   "source": [
    "df.dtypes"
   ]
  },
  {
   "cell_type": "code",
   "execution_count": 15,
   "id": "818f5be1",
   "metadata": {},
   "outputs": [],
   "source": [
    "sexo = df['TP_SEXO'].replace(['F', 'M'], ['Feminino', 'Masculino'])"
   ]
  },
  {
   "cell_type": "code",
   "execution_count": 16,
   "id": "baae8984",
   "metadata": {},
   "outputs": [
    {
     "data": {
      "image/png": "[encoded data removed]",
      "text/plain": [
       "<Figure size 288x288 with 1 Axes>"
      ]
     },
     "metadata": {
      "needs_background": "light"
     },
     "output_type": "display_data"
    }
   ],
   "source": [
    "plt.figure(figsize=(4, 4)) \n",
    "plt.hist(sexo,bins=10,edgecolor='black', color='gray')\n",
    "plt.title ('Sexo dos candidatos')\n",
    "plt.show() "
   ]
  },
  {
   "cell_type": "code",
   "execution_count": 17,
   "id": "a6ca66a6",
   "metadata": {},
   "outputs": [],
   "source": [
    "faixa_etaria=df['TP_FAIXA_ETARIA'].replace([1,2,3,4,5,6,7,8,9,10,11,12,13,14,15,16,17,18,19,20],\n",
    "                            ['menor_17','17','18','19','20','21','22','23','24','25','26-30','31-35','36-40','41-45','46-50', \n",
    "                            '51-55','56-60','61-65','66-70','maior-70'])"
   ]
  },
  {
   "cell_type": "code",
   "execution_count": 18,
   "id": "7e061638",
   "metadata": {},
   "outputs": [
    {
     "data": {
      "image/png": "[encoded data removed]",
      "text/plain": [
       "<Figure size 576x288 with 1 Axes>"
      ]
     },
     "metadata": {
      "needs_background": "light"
     },
     "output_type": "display_data"
    }
   ],
   "source": [
    "plt.figure(figsize=(8, 4)) \n",
    "plt.hist(faixa_etaria,bins=20,edgecolor='black', color='red')\n",
    "plt.xticks(rotation=90) \n",
    "plt.title ('Faixa etária dos candidatos')\n",
    "plt.show() "
   ]
  },
  {
   "cell_type": "code",
   "execution_count": 19,
   "id": "4d9761e3",
   "metadata": {},
   "outputs": [],
   "source": [
    "estado_civil=df['TP_ESTADO_CIVIL'].replace([0,1,2,3,4],\n",
    "                            ['Não informado', 'Solteiro(a)', 'Casado(a) Mora c/ compan', 'Separado(a)', 'Viuvo(a)'])"
   ]
  },
  {
   "cell_type": "code",
   "execution_count": 20,
   "id": "2f84a5c3",
   "metadata": {},
   "outputs": [
    {
     "data": {
      "image/png": "[encoded data removed]",
      "text/plain": [
       "<Figure size 360x288 with 1 Axes>"
      ]
     },
     "metadata": {
      "needs_background": "light"
     },
     "output_type": "display_data"
    }
   ],
   "source": [
    "plt.figure(figsize=(5, 4)) \n",
    "plt.hist(estado_civil,bins=10,edgecolor='black', color = 'green')\n",
    "plt.xticks(rotation=45) \n",
    "plt.title ('Estado civil dos candidatos')\n",
    "plt.show() "
   ]
  },
  {
   "cell_type": "code",
   "execution_count": 21,
   "id": "3a39a107",
   "metadata": {},
   "outputs": [],
   "source": [
    "cor_raca=df['TP_COR_RACA'].replace([0,1,2,3,4,5,6], \n",
    "                                   ['Não declarado', 'Branca', 'Preta', 'Parda', 'Amarela','Indigena', 'Não sabe'])"
   ]
  },
  {
   "cell_type": "code",
   "execution_count": 22,
   "id": "f7f14a05",
   "metadata": {},
   "outputs": [
    {
     "data": {
      "image/png": "[encoded data removed]",
      "text/plain": [
       "<Figure size 360x288 with 1 Axes>"
      ]
     },
     "metadata": {
      "needs_background": "light"
     },
     "output_type": "display_data"
    }
   ],
   "source": [
    "plt.figure(figsize=(5, 4)) \n",
    "plt.hist(cor_raca,bins=10,edgecolor='black', color = 'orange')\n",
    "plt.xticks(rotation=45) \n",
    "plt.title ('Raça declarada pelos candidatos')\n",
    "plt.show() "
   ]
  },
  {
   "cell_type": "code",
   "execution_count": 23,
   "id": "fcb3a083",
   "metadata": {},
   "outputs": [],
   "source": [
    "nacionalidade=df['TP_NACIONALIDADE'].replace([0,1,2,3,4], ['Não informado', 'Brasileiro(a)', 'Brasileiro naturalizado(a)',\n",
    "                                                          'Estrangeiro(a)', 'Brasileiro nato nascido no exterior'])"
   ]
  },
  {
   "cell_type": "code",
   "execution_count": 24,
   "id": "709c9c9d",
   "metadata": {},
   "outputs": [
    {
     "data": {
      "image/png": "[encoded data removed]",
      "text/plain": [
       "<Figure size 288x288 with 1 Axes>"
      ]
     },
     "metadata": {
      "needs_background": "light"
     },
     "output_type": "display_data"
    }
   ],
   "source": [
    "plt.figure(figsize=(4, 4)) \n",
    "plt.hist(nacionalidade,bins=10,edgecolor='white')\n",
    "plt.xticks(rotation=45) \n",
    "plt.show() "
   ]
  },
  {
   "cell_type": "code",
   "execution_count": 25,
   "id": "42d95a10",
   "metadata": {},
   "outputs": [],
   "source": [
    "ensino_medio=df['TP_ST_CONCLUSAO'].replace([1,2,3,4], ['Concluido', 'Concluirei em 2021', 'Concluirei após 2021', \n",
    "                                                      'Não conclui e não estou cursando EM'])"
   ]
  },
  {
   "cell_type": "code",
   "execution_count": 26,
   "id": "d9dcf741",
   "metadata": {},
   "outputs": [
    {
     "data": {
      "image/png": "[encoded data removed]",
      "text/plain": [
       "<Figure size 288x288 with 1 Axes>"
      ]
     },
     "metadata": {
      "needs_background": "light"
     },
     "output_type": "display_data"
    }
   ],
   "source": [
    "plt.figure(figsize=(4, 4)) \n",
    "plt.hist(ensino_medio,bins=10,edgecolor='white')\n",
    "plt.xticks(rotation=45) \n",
    "plt.show() "
   ]
  },
  {
   "cell_type": "code",
   "execution_count": 27,
   "id": "ef828514",
   "metadata": {},
   "outputs": [],
   "source": [
    "ano_conclusao=df['TP_ANO_CONCLUIU'].replace([0,1,2,3,4,5,6,7,8,9,10,11,12,13,14,15], ['Nao informado','2020', '2019', '2018', \n",
    "                                                                                     '2017', '2016', '2015', '2014', '2013',\n",
    "                                                                                     '2012', '2011', '2010', '2009', '2008',\n",
    "                                                                                     '2007', 'Antes de 2007'])"
   ]
  },
  {
   "cell_type": "code",
   "execution_count": 28,
   "id": "4c54f613",
   "metadata": {},
   "outputs": [
    {
     "data": {
      "image/png": "[encoded data removed]",
      "text/plain": [
       "<Figure size 504x288 with 1 Axes>"
      ]
     },
     "metadata": {
      "needs_background": "light"
     },
     "output_type": "display_data"
    }
   ],
   "source": [
    "plt.figure(figsize=(7, 4)) \n",
    "plt.hist(ano_conclusao,bins=10,edgecolor='black', color = 'purple')\n",
    "plt.xticks(rotation=45) \n",
    "plt.title ('Ano de conclusão do ensino médio')\n",
    "plt.show() "
   ]
  },
  {
   "cell_type": "code",
   "execution_count": 29,
   "id": "2e4a5fb5",
   "metadata": {},
   "outputs": [],
   "source": [
    "tipo_escola=df['TP_ESCOLA'].replace([1,2,3], ['Não respondeu', 'Pública', 'Privada'])"
   ]
  },
  {
   "cell_type": "code",
   "execution_count": 30,
   "id": "7f656a0a",
   "metadata": {},
   "outputs": [
    {
     "data": {
      "image/png": "[encoded data removed]",
      "text/plain": [
       "<Figure size 432x288 with 1 Axes>"
      ]
     },
     "metadata": {
      "needs_background": "light"
     },
     "output_type": "display_data"
    }
   ],
   "source": [
    "plt.figure(figsize=(6, 4)) \n",
    "plt.hist(tipo_escola,bins=10,edgecolor='black', color= 'blue')\n",
    "plt.xticks(rotation=45) \n",
    "plt.title ('Tipo de escola que o candidato frequentou')\n",
    "plt.show() "
   ]
  },
  {
   "cell_type": "code",
   "execution_count": 31,
   "id": "459410b1",
   "metadata": {},
   "outputs": [],
   "source": [
    "treino=df['IN_TREINEIRO'].replace([1,0], ['Sim', 'Não'])"
   ]
  },
  {
   "cell_type": "code",
   "execution_count": 32,
   "id": "ee9672e9",
   "metadata": {},
   "outputs": [
    {
     "data": {
      "image/png": "[encoded data removed]",
      "text/plain": [
       "<Figure size 288x288 with 1 Axes>"
      ]
     },
     "metadata": {
      "needs_background": "light"
     },
     "output_type": "display_data"
    }
   ],
   "source": [
    "plt.figure(figsize=(4, 4)) \n",
    "plt.hist(treino,bins=10,edgecolor='white')\n",
    "plt.xticks(rotation=45) \n",
    "plt.show() "
   ]
  },
  {
   "cell_type": "code",
   "execution_count": 33,
   "id": "aebb0823",
   "metadata": {},
   "outputs": [],
   "source": [
    "#FORMA MAIS FÁCIL E MAIS RÁPIDA\n",
    "dados_candidatos=['TP_SEXO','TP_ESTADO_CIVIL', 'TP_COR_RACA', 'TP_ANO_CONCLUIU', 'TP_ESCOLA','TP_FAIXA_ETARIA']\n",
    "df2= df.filter(items=dados_candidatos)"
   ]
  },
  {
   "cell_type": "code",
   "execution_count": 34,
   "id": "535de306",
   "metadata": {},
   "outputs": [
    {
     "data": {
      "text/plain": [
       "array([[<AxesSubplot:title={'center':'TP_ESTADO_CIVIL'}>,\n",
       "        <AxesSubplot:title={'center':'TP_COR_RACA'}>],\n",
       "       [<AxesSubplot:title={'center':'TP_ANO_CONCLUIU'}>,\n",
       "        <AxesSubplot:title={'center':'TP_ESCOLA'}>],\n",
       "       [<AxesSubplot:title={'center':'TP_FAIXA_ETARIA'}>, <AxesSubplot:>]],\n",
       "      dtype=object)"
      ]
     },
     "execution_count": 34,
     "metadata": {},
     "output_type": "execute_result"
    },
    {
     "data": {
      "image/png": "[encoded data removed]",
      "text/plain": [
       "<Figure size 720x576 with 6 Axes>"
      ]
     },
     "metadata": {
      "needs_background": "light"
     },
     "output_type": "display_data"
    }
   ],
   "source": [
    "df2.hist(bins=10, figsize=(10,8))"
   ]
  },
  {
   "cell_type": "markdown",
   "id": "cb51aaf0",
   "metadata": {},
   "source": [
    "### PRESENÇA POR TIPO DE PROVA"
   ]
  },
  {
   "cell_type": "code",
   "execution_count": 35,
   "id": "a5e54231",
   "metadata": {},
   "outputs": [
    {
     "data": {
      "text/plain": [
       "array([[<AxesSubplot:title={'center':'TP_PRESENCA_CN'}>,\n",
       "        <AxesSubplot:title={'center':'TP_PRESENCA_CH'}>],\n",
       "       [<AxesSubplot:title={'center':'TP_PRESENCA_LC'}>,\n",
       "        <AxesSubplot:title={'center':'TP_PRESENCA_MT'}>]], dtype=object)"
      ]
     },
     "execution_count": 35,
     "metadata": {},
     "output_type": "execute_result"
    },
    {
     "data": {
      "image/png": "[encoded data removed]",
      "text/plain": [
       "<Figure size 432x288 with 4 Axes>"
      ]
     },
     "metadata": {
      "needs_background": "light"
     },
     "output_type": "display_data"
    }
   ],
   "source": [
    "presenca= [ 'TP_PRESENCA_CN', 'TP_PRESENCA_CH', 'TP_PRESENCA_LC',\n",
    "       'TP_PRESENCA_MT']\n",
    "df3= df.filter(items=presenca)\n",
    "df3.hist(bins=10, figsize=(6, 4))"
   ]
  },
  {
   "cell_type": "markdown",
   "id": "11fe9a16",
   "metadata": {},
   "source": [
    "### LINGUA ESTRANGEIRA"
   ]
  },
  {
   "cell_type": "code",
   "execution_count": 36,
   "id": "d007bc80",
   "metadata": {},
   "outputs": [
    {
     "data": {
      "image/png": "[encoded data removed]",
      "text/plain": [
       "<Figure size 144x288 with 1 Axes>"
      ]
     },
     "metadata": {
      "needs_background": "light"
     },
     "output_type": "display_data"
    }
   ],
   "source": [
    "lingua_estrangeira=df['TP_LINGUA'].replace([0,1], ['Inglês', 'Espanhol'])\n",
    "plt.figure(figsize=(2, 4)) \n",
    "plt.hist(lingua_estrangeira,bins=10,edgecolor='white')\n",
    "plt.xticks(rotation=45) \n",
    "plt.show() "
   ]
  }
 ],
 "metadata": {
  "kernelspec": {
   "display_name": "Python 3",
   "language": "python",
   "name": "python3"
  },
  "language_info": {
   "codemirror_mode": {
    "name": "ipython",
    "version": 3
   },
   "file_extension": ".py",
   "mimetype": "text/x-python",
   "name": "python",
   "nbconvert_exporter": "python",
   "pygments_lexer": "ipython3",
   "version": "3.8.8"
  }
 },
 "nbformat": 4,
 "nbformat_minor": 5
}
